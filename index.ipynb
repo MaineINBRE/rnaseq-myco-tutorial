{
 "cells": [
  {
   "cell_type": "markdown",
   "metadata": {},
   "source": [
    "# RNA-Seq Analysis Training Demo"
   ]
  },
  {
   "cell_type": "markdown",
   "metadata": {},
   "source": [
    "## Overview"
   ]
  },
  {
   "cell_type": "markdown",
   "metadata": {},
   "source": [
    "This short tutorial walks through a basic RNA-Seq data analysis workflow. Steps include read trimming, read QC, read mapping, and gene expression quantitation for a prokaryotic data set.\n",
    "\n",
    "![RNA-Seq analysis workflow](images/workflow.png)"
   ]
  },
  {
   "cell_type": "markdown",
   "metadata": {},
   "source": [
    "STEP 1: Copy some FASTQ files.\n",
   ]
  },
  {
   "cell_type": "code",
   "execution_count": 1,
   "id": "ff0dac02",
   "metadata": {},
   "outputs": [
    {
     "data": {
      "text/html": [
       "3"
      ],
      "text/latex": [
       "3"
      ],
      "text/markdown": [
       "3"
      ],
      "text/plain": [
       "[1] 3"
      ]
     },
     "metadata": {},
     "output_type": "display_data"
    }
   ],
   "source": [
    "getwd()"
   ]
  },
}
