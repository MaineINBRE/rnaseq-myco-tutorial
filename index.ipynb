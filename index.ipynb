{
 "cells": [
  {
   "cell_type": "markdown",
   "metadata": {},
   "source": [
    "# RNA-Seq Analysis Training Demo"
   ]
  },
  {
   "cell_type": "markdown",
   "metadata": {},
   "source": [
    "## Overview"
   ]
  },
  {
   "cell_type": "markdown",
   "metadata": {},
   "source": [
    "When you first start the notebook server, your browser will open to the notebook dashboard. The dashboard serves as a home page for the notebook. Its main purpose is to display the notebooks and files in the current directory. For example, here is a screenshot of the dashboard page for the `examples` directory in the Jupyter repository:\n",
    "\n",
    "![Jupyter dashboard showing files tab](images/dashboard_files_tab.png)"
   ]
  },
  {
   "cell_type": "code",
   "execution_count": 26,
   "id": "e4df2f6c",
   "metadata": {},
   "outputs": [
    {
     "data": {
      "text/html": [
       "'/home/jupyter'"
      ],
      "text/latex": [
       "'/home/jupyter'"
      ],
      "text/markdown": [
       "'/home/jupyter'"
      ],
      "text/plain": [
       "[1] \"/home/jupyter\""
      ]
     },
     "metadata": {},
     "output_type": "display_data"
    }
   ],
   "source": [
    "getwd()"
   ]
  },
  {
   "cell_type": "markdown",
   "id": "1ec3435d",
   "metadata": {},
   "source": [
    "### Set Working Directory"
   ]
  },
  {
   "cell_type": "code",
   "execution_count": 27,
   "id": "7a543aa9",
   "metadata": {},
   "outputs": [],
   "source": [
    "#setwd(\"/home/jupyter/\") # try to avoid\n",
    "#getwd()"
   ]
  },
  {
   "cell_type": "markdown",
   "metadata": {},
   "source": [
    "We recommend learning the command mode shortcuts in the following rough order:\n",
    "\n",
    "1. Basic navigation: `enter`, `shift-enter`, `up/k`, `down/j`\n",
    "2. Saving the notebook: `s`\n",
    "2. Change Cell types: `y`, `m`, `1-6`, `t`\n",
    "3. Cell creation: `a`, `b`\n",
    "4. Cell editing: `x`, `c`, `v`, `d`, `z`\n",
    "5. Kernel operations: `i`, `0` (press twice)"
   ]
  }
 ],
 "metadata": {
  "kernelspec": {
   "display_name": "Python 3",
   "language": "python",
   "name": "python3"
  },
  "language_info": {
   "codemirror_mode": {
    "name": "ipython",
    "version": 3
   },
   "file_extension": ".py",
   "mimetype": "text/x-python",
   "name": "python",
   "nbconvert_exporter": "python",
   "pygments_lexer": "ipython3",
   "version": "3.5.2"
  }
 },
 "nbformat": 4,
 "nbformat_minor": 1
}
