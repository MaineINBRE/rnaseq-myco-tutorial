{
 "cells": [
  {
   "cell_type": "markdown",
   "metadata": {},
   "source": [
    "# RNA-Seq Analysis Training Demo"
   ]
  },
  {
   "cell_type": "markdown",
   "metadata": {},
   "source": [
    "## Overview"
   ]
  },
  {
   "cell_type": "markdown",
   "metadata": {},
   "source": [
    "This short tutorial demonstrates how to run an RNA-Seq workflow using a prokaryotic data set. Steps in the workflow include read trimming, read QC, read mapping, and counting mapped reads per gene to quantitate gene expression.\n",
    "\n",
    "![RNA-Seq workflow](images/rnaseq-workflow.png)"
   ]
  },
  {
   "cell_type": "markdown",
   "metadata": {},
   "source": [
    "### STEP 1: Setup Environment\n",
    "We to create a set of directories first.\n"
   ]
  },
  {
   "cell_type": "markdown",
   "metadata": {},
   "source": [
    "Set up directory structure"
   ]
  },
  {
   "cell_type": "code",
   "execution_count": 1,
   "metadata": {},
   "outputs": [],
   "source": [
    "!mkdir -p data\n",
    "!mkdir -p data/raw_fastq\n",
    "!mkdir -p data/trimmed\n",
    "!mkdir -p data/fastqc\n",
    "!mkdir -p data/aligned\n",
    "!mkdir -p data/reference"
   ]
  },
  {
   "cell_type": "markdown",
   "metadata": {},
   "source": [
    "### STEP 2: Copy FASTQ Files"
   ]
  },
  {
   "cell_type": "code",
   "execution_count": 2,
   "metadata": {},
   "outputs": [
    {
     "name": "stdout",
     "output_type": "stream",
     "text": [
      "  % Total    % Received % Xferd  Average Speed   Time    Time     Time  Current\n",
      "                                 Dload  Upload   Total   Spent    Left  Speed\n",
      "100 7175k  100 7175k    0     0  13.7M      0 --:--:-- --:--:-- --:--:-- 13.7M\n",
      "  % Total    % Received % Xferd  Average Speed   Time    Time     Time  Current\n",
      "                                 Dload  Upload   Total   Spent    Left  Speed\n",
      "100 7175k  100 7175k    0     0  12.9M      0 --:--:-- --:--:-- --:--:-- 12.9M\n",
      "  % Total    % Received % Xferd  Average Speed   Time    Time     Time  Current\n",
      "                                 Dload  Upload   Total   Spent    Left  Speed\n",
      "100 7178k  100 7178k    0     0  13.3M      0 --:--:-- --:--:-- --:--:-- 13.3M\n",
      "  % Total    % Received % Xferd  Average Speed   Time    Time     Time  Current\n",
      "                                 Dload  Upload   Total   Spent    Left  Speed\n",
      "100 7178k  100 7178k    0     0  6342k      0  0:00:01 --:--:--  0:00:01 6327k    0     0  13.4M      0 --:--:-- --:--:-- --:--:-- 13.4M\n"
     ]
    }
   ],
   "source": [
    "!curl https://storage.googleapis.com/me-inbre-rnaseq-pipelinev2/data/raw_fastqSub/SRR13349122_1.fastq --output data/raw_fastq/SRR13349122_1.fastq\n",
    "!curl https://storage.googleapis.com/me-inbre-rnaseq-pipelinev2/data/raw_fastqSub/SRR13349122_2.fastq --output data/raw_fastq/SRR13349122_2.fastq\n",
    "!curl https://storage.googleapis.com/me-inbre-rnaseq-pipelinev2/data/raw_fastqSub/SRR13349123_1.fastq --output data/raw_fastq/SRR13349123_1.fastq\n",
    "!curl https://storage.googleapis.com/me-inbre-rnaseq-pipelinev2/data/raw_fastqSub/SRR13349123_2.fastq --output data/raw_fastq/SRR13349123_2.fastq"
   ]
  },
  {
   "cell_type": "markdown",
   "metadata": {},
   "source": [
    "### STEP 3: Copy reference transcriptome files"
   ]
  },
  {
   "cell_type": "code",
   "execution_count": 3,
   "metadata": {},
   "outputs": [
    {
     "name": "stdout",
     "output_type": "stream",
     "text": [
      "  % Total    % Received % Xferd  Average Speed   Time    Time     Time  Current\n",
      "                                 Dload  Upload   Total   Spent    Left  Speed\n",
      "100 4982k  100 4982k    0     0  10.0M      0 --:--:-- --:--:-- --:--:-- 10.0M\n",
      "  % Total    % Received % Xferd  Average Speed   Time    Time     Time  Current\n",
      "                                 Dload  Upload   Total   Spent    Left  Speed\n",
      "100    12  100    12    0     0     80      0 --:--:-- --:--:-- --:--:--     03      0 --:--:-- --:--:-- --:--:--    83\n",
      "  % Total    % Received % Xferd  Average Speed   Time    Time     Time  Current\n",
      "                                 Dload  Upload   Total   Spent    Left  Speed\n",
      "100   105  100   105    0     0    700      0 --:--:-- --:--:-- --:--:--   700\n",
      "  % Total    % Received % Xferd  Average Speed   Time    Time     Time  Current\n",
      "                                 Dload  Upload   Total   Spent    Left  Speed\n",
      "100 4912k  100 4912k    0     0  10.1M      0 --:--:-- --:--:-- --:--:-- 10.0M\n",
      "  % Total    % Received % Xferd  Average Speed   Time    Time     Time  Current\n",
      "                                 Dload  Upload   Total   Spent    Left  Speed\n",
      "100    31  100    31    0     0    201      0 --:--:-- --:--:-- --:--:--   201\n",
      "  % Total    % Received % Xferd  Average Speed   Time    Time     Time  Current\n",
      "                                 Dload  Upload   Total   Spent    Left  Speed\n",
      "100 1227k  100 1227k    0     0  3498k      0 --:--:-- --:--:-- --:--:-- 3498k\n",
      "  % Total    % Received % Xferd  Average Speed   Time    Time     Time  Current\n",
      "                                 Dload  Upload   Total   Spent    Left  Speed\n",
      "100 2456k  100 2456k    0     0  6170k      0 --:--:-- --:--:-- --:--:-- 6170k\n"
     ]
    }
   ],
   "source": [
    "!curl https://storage.googleapis.com/me-inbre-rnaseq-pipelinev2/data/reference/M_chelonae_NZ_CP007220.fasta --output data/reference/M_chelonae_NZ_CP007220.fasta\n",
    "!curl https://storage.googleapis.com/me-inbre-rnaseq-pipelinev2/data/reference/M_chelonae_NZ_CP007220.fasta.amb --output data/reference/M_chelonae_NZ_CP007220.fasta.amb\n",
    "!curl https://storage.googleapis.com/me-inbre-rnaseq-pipelinev2/data/reference/M_chelonae_NZ_CP007220.fasta.ann --output data/reference/M_chelonae_NZ_CP007220.fasta.ann\n",
    "!curl https://storage.googleapis.com/me-inbre-rnaseq-pipelinev2/data/reference/M_chelonae_NZ_CP007220.fasta.bwt --output data/reference/M_chelonae_NZ_CP007220.fasta.bwt\n",
    "!curl https://storage.googleapis.com/me-inbre-rnaseq-pipelinev2/data/reference/M_chelonae_NZ_CP007220.fasta.fai --output data/reference/M_chelonae_NZ_CP007220.fasta.fai\n",
    "!curl https://storage.googleapis.com/me-inbre-rnaseq-pipelinev2/data/reference/M_chelonae_NZ_CP007220.fasta.pac --output data/reference/M_chelonae_NZ_CP007220.fasta.pac\n",
    "!curl https://storage.googleapis.com/me-inbre-rnaseq-pipelinev2/data/reference/M_chelonae_NZ_CP007220.fasta.sa --output data/reference/M_chelonae_NZ_CP007220.fasta.sa"
   ]
  },
  {
   "cell_type": "markdown",
   "metadata": {},
   "source": [
    "### STEP 4: Copy data file for Trimmomatic"
   ]
  },
  {
   "cell_type": "code",
   "execution_count": 4,
   "metadata": {},
   "outputs": [
    {
     "name": "stdout",
     "output_type": "stream",
     "text": [
      "  % Total    % Received % Xferd  Average Speed   Time    Time     Time  Current\n",
      "                                 Dload  Upload   Total   Spent    Left  Speed\n",
      "100    95  100    95    0     0    605      0 --:--:-- --:--:-- --:--:--   608\n"
     ]
    }
   ],
   "source": [
    "!curl https://storage.googleapis.com/me-inbre-rnaseq-pipelinev2/config/TruSeq3-PE.fa --output TruSeq3-PE.fa"
   ]
  },
  {
   "cell_type": "markdown",
   "metadata": {},
   "source": [
    "### STEP 5: Run Trimmomatic"
   ]
  },
  {
   "cell_type": "code",
   "execution_count": 5,
   "metadata": {},
   "outputs": [
    {
     "name": "stdout",
     "output_type": "stream",
     "text": [
      "TrimmomaticPE: Started with arguments:\n",
      " -threads 2 data/raw_fastq/SRR13349122_1.fastq data/raw_fastq/SRR13349122_2.fastq data/trimmed/SRR13349122_1_trimmed.fastq data/trimmed/SRR13349122_2_trimmed.fastq data/trimmed/SRR13349122_1_trimmed_unpaired.fastq data/trimmed/SRR13349122_2_trimmed_unpaired.fastq ILLUMINACLIP:TruSeq3-PE.fa:2:30:10:2:keepBothReads LEADING:3 TRAILING:3 MINLEN:36\n",
      "Using PrefixPair: 'TACACTCTTTCCCTACACGACGCTCTTCCGATCT' and 'GTGACTGGAGTTCAGACGTGTGCTCTTCCGATCT'\n",
      "ILLUMINACLIP: Using 1 prefix pairs, 0 forward/reverse sequences, 0 forward only sequences, 0 reverse only sequences\n",
      "Quality encoding detected as phred33\n",
      "Input Read Pairs: 50000 Both Surviving: 49926 (99.85%) Forward Only Surviving: 74 (0.15%) Reverse Only Surviving: 0 (0.00%) Dropped: 0 (0.00%)\n",
      "TrimmomaticPE: Completed successfully\n",
      "TrimmomaticPE: Started with arguments:\n",
      " -threads 2 data/raw_fastq/SRR13349123_1.fastq data/raw_fastq/SRR13349123_2.fastq data/trimmed/SRR13349123_1_trimmed.fastq data/trimmed/SRR13349123_2_trimmed.fastq data/trimmed/SRR13349123_1_trimmed_unpaired.fastq data/trimmed/SRR13349123_2_trimmed_unpaired.fastq ILLUMINACLIP:TruSeq3-PE.fa:2:30:10:2:keepBothReads LEADING:3 TRAILING:3 MINLEN:36\n",
      "Using PrefixPair: 'TACACTCTTTCCCTACACGACGCTCTTCCGATCT' and 'GTGACTGGAGTTCAGACGTGTGCTCTTCCGATCT'\n",
      "ILLUMINACLIP: Using 1 prefix pairs, 0 forward/reverse sequences, 0 forward only sequences, 0 reverse only sequences\n",
      "Quality encoding detected as phred33\n",
      "Input Read Pairs: 50000 Both Surviving: 49735 (99.47%) Forward Only Surviving: 264 (0.53%) Reverse Only Surviving: 0 (0.00%) Dropped: 1 (0.00%)\n",
      "TrimmomaticPE: Completed successfully\n"
     ]
    }
   ],
   "source": [
   "!trimmomatic PE -threads 2 data/raw_fastq/SRR13349122_1.fastq data/raw_fastq/SRR13349122_2.fastq data/trimmed/SRR13349122_1_trimmed.fastq data/trimmed/SRR13349122_2_trimmed.fastq data/trimmed/SRR13349122_1_trimmed_unpaired.fastq  data/trimmed/SRR13349122_2_trimmed_unpaired.fastq ILLUMINACLIP:TruSeq3-PE.fa:2:30:10:2:keepBothReads LEADING:3 TRAILING:3 MINLEN:36\n",
   "!trimmomatic PE -threads 2 data/raw_fastq/SRR13349123_1.fastq data/raw_fastq/SRR13349123_2.fastq data/trimmed/SRR13349123_1_trimmed.fastq data/trimmed/SRR13349123_2_trimmed.fastq data/trimmed/SRR13349123_1_trimmed_unpaired.fastq  data/trimmed/SRR13349123_2_trimmed_unpaired.fastq ILLUMINACLIP:TruSeq3-PE.fa:2:30:10:2:keepBothReads LEADING:3 TRAILING:3 MINLEN:36"
   ]
  },
  {
   "cell_type": "markdown",
   "metadata": {},
   "source": [
    "### STEP 6: Run FastQC"
   ]
  },
  {
   "cell_type": "code",
   "execution_count": 6,
   "metadata": {},
   "outputs": [
    {
     "name": "stdout",
     "output_type": "stream",
     "text": [
      "Started analysis of SRR13349122_1_trimmed.fastq\n",
      "Approx 5% complete for SRR13349122_1_trimmed.fastq\n",
      "Approx 10% complete for SRR13349122_1_trimmed.fastq\n",
      "Approx 15% complete for SRR13349122_1_trimmed.fastq\n",
      "Approx 20% complete for SRR13349122_1_trimmed.fastq\n",
      "Approx 25% complete for SRR13349122_1_trimmed.fastq\n",
      "Approx 30% complete for SRR13349122_1_trimmed.fastq\n",
      "Approx 35% complete for SRR13349122_1_trimmed.fastq\n",
      "Approx 40% complete for SRR13349122_1_trimmed.fastq\n",
      "Approx 45% complete for SRR13349122_1_trimmed.fastq\n",
      "Approx 50% complete for SRR13349122_1_trimmed.fastq\n",
      "Approx 55% complete for SRR13349122_1_trimmed.fastq\n",
      "Approx 60% complete for SRR13349122_1_trimmed.fastq\n",
      "Approx 65% complete for SRR13349122_1_trimmed.fastq\n",
      "Approx 70% complete for SRR13349122_1_trimmed.fastq\n",
      "Approx 75% complete for SRR13349122_1_trimmed.fastq\n",
      "Approx 80% complete for SRR13349122_1_trimmed.fastq\n",
      "Approx 85% complete for SRR13349122_1_trimmed.fastq\n",
      "Approx 90% complete for SRR13349122_1_trimmed.fastq\n",
      "Approx 95% complete for SRR13349122_1_trimmed.fastq\n",
      "Analysis complete for SRR13349122_1_trimmed.fastq\n",
      "Started analysis of SRR13349122_2_trimmed.fastq\n",
      "Analysis complete for SRR13349122_2_trimmed.fastq\n",
      "Started analysis of SRR13349123_1_trimmed.fastq\n",
      "Approx 5% complete for SRR13349123_1_trimmed.fastq\n",
      "Approx 10% complete for SRR13349123_1_trimmed.fastq\n",
      "Approx 15% complete for SRR13349123_1_trimmed.fastq\n",
      "Approx 20% complete for SRR13349123_1_trimmed.fastq\n",
      "Approx 25% complete for SRR13349123_1_trimmed.fastq\n",
      "Approx 30% complete for SRR13349123_1_trimmed.fastq\n",
      "Approx 35% complete for SRR13349123_1_trimmed.fastq\n",
      "Approx 40% complete for SRR13349123_1_trimmed.fastq\n",
      "Approx 45% complete for SRR13349123_1_trimmed.fastq\n",
      "Approx 50% complete for SRR13349123_1_trimmed.fastq\n",
      "Approx 55% complete for SRR13349123_1_trimmed.fastq\n",
      "Approx 60% complete for SRR13349123_1_trimmed.fastq\n",
      "Approx 65% complete for SRR13349123_1_trimmed.fastq\n",
      "Approx 70% complete for SRR13349123_1_trimmed.fastq\n",
      "Approx 75% complete for SRR13349123_1_trimmed.fastq\n",
      "Approx 80% complete for SRR13349123_1_trimmed.fastq\n",
      "Approx 85% complete for SRR13349123_1_trimmed.fastq\n",
      "Approx 90% complete for SRR13349123_1_trimmed.fastq\n",
      "Approx 95% complete for SRR13349123_1_trimmed.fastq\n",
      "Analysis complete for SRR13349123_1_trimmed.fastq\n",
      "Started analysis of SRR13349123_2_trimmed.fastq\n",
      "Analysis complete for SRR13349123_2_trimmed.fastq\n"
     ]
    }
   ],
   "source": [
   "!fastqc -o data/fastqc data/trimmed/SRR13349122_1_trimmed.fastq\n",
   "!fastqc -o data/fastqc data/trimmed/SRR13349122_2_trimmed.fastq\n",
   "!fastqc -o data/fastqc data/trimmed/SRR13349123_1_trimmed.fastq\n",
   "!fastqc -o data/fastqc data/trimmed/SRR13349123_2_trimmed.fastq\n"
   ]
  },
  {
   "cell_type": "markdown",
   "metadata": {},
   "source": [
    "### STEP 7: Run MultiQC"
   ]
  },
  {
   "cell_type": "code",
   "execution_count": 7,
   "metadata": {},
   "outputs": [
    {
     "name": "stdout",
     "output_type": "stream",
     "text": [
      "\u001b[1;30m[WARNING]\u001b[0m         multiqc : \u001b[33mMultiQC Version v1.11 now available!\u001b[0m\n",
      "\u001b[1;30m[INFO   ]\u001b[0m         multiqc : This is MultiQC v1.10.1\n",
      "\u001b[1;30m[INFO   ]\u001b[0m         multiqc : Template    : default\n",
      "\u001b[1;30m[INFO   ]\u001b[0m         multiqc : Searching   : /home/jovyan/data/fastqc\n",
      "\u001b[2KSearching   \u001b[90m━━━━━━━━━━━━━━━━━━━━━━━━━━━━━━━━━━━━━━━━\u001b[0m \u001b[35m100%\u001b[0m \u001b[32m8/8\u001b[0m  [2mdata/fastqc/SRR13349123_1_trimmed_fastqc.html\u001b[0m\n",
      "\u001b[?25h\u001b[1;30m[INFO   ]\u001b[0m          fastqc : Found 4 reports\n",
      "\u001b[1;30m[INFO   ]\u001b[0m         multiqc : Compressing plot data\n",
      "\u001b[1;30m[INFO   ]\u001b[0m         multiqc : Report      : multiqc_report.html\n",
      "\u001b[1;30m[INFO   ]\u001b[0m         multiqc : Data        : multiqc_data\n",
      "\u001b[1;30m[INFO   ]\u001b[0m         multiqc : MultiQC complete\n"
     ]
    }
   ],
   "source": [
   "!multiqc data/fastqc\n"
   ]
  },
  {
   "cell_type": "markdown",
   "metadata": {},
   "source": [
    "### You are all done!"
   ]
  }
 ],
 "metadata": {
  "kernelspec": {
   "display_name": "Python 3",
   "language": "python",
   "name": "python3"
  },
  "language_info": {
   "codemirror_mode": {
    "name": "ipython",
    "version": 3
   },
   "file_extension": ".py",
   "mimetype": "text/x-python",
   "name": "python",
   "nbconvert_exporter": "python",
   "pygments_lexer": "ipython3",
   "version": "3.8.8"
  }
 },
 "nbformat": 4,
 "nbformat_minor": 1
}
